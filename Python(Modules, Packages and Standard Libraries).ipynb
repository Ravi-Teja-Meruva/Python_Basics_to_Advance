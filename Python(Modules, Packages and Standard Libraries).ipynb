{
 "cells": [
  {
   "cell_type": "markdown",
   "metadata": {},
   "source": [
    "## Modules, Packages and Standard Libraries"
   ]
  },
  {
   "cell_type": "markdown",
   "metadata": {},
   "source": [
    "##### Module: Modules in python are simply python files with a .py extension. The name of the module will be the name of the file. A python module can have a set of functions,classes or variables defined and implemented."
   ]
  },
  {
   "cell_type": "markdown",
   "metadata": {},
   "source": [
    "###### Example of module"
   ]
  },
  {
   "cell_type": "code",
   "execution_count": 1,
   "metadata": {},
   "outputs": [],
   "source": [
    "import Circle # module Circle is imported"
   ]
  },
  {
   "cell_type": "code",
   "execution_count": 2,
   "metadata": {},
   "outputs": [
    {
     "data": {
      "text/plain": [
       "113.03999999999999"
      ]
     },
     "execution_count": 2,
     "metadata": {},
     "output_type": "execute_result"
    }
   ],
   "source": [
    "Circle.area_circle(6) # circle of radius 6"
   ]
  },
  {
   "cell_type": "raw",
   "metadata": {},
   "source": [
    "Advantages Of using modules:\n",
    "\n",
    "1. It provides a means of identifying errors easily.\n",
    "2. It provides a means of dividing up tasks.\n",
    "3. Provides a means of reuse of program code.\n",
    "4. It provides a means of testing individual parts of the program.\n",
    "    "
   ]
  },
  {
   "cell_type": "markdown",
   "metadata": {},
   "source": [
    "##### Packages :  Multiple modules that belong to the same domain of task\n",
    "\n",
    "Python Standard Package Library :\n",
    "\n",
    "1. Built-in functions: print(), max(), min() etc.\n",
    "\n",
    "2. Built-in constants: False, True, None etc.\n",
    "\n",
    "3. Useful modules : os, re, datetime, math etc.\n",
    "\n",
    "4. Data types: int, float, bool, str etc.\n",
    "\n",
    "5. File Formats : csv, excel, hdf5 etc.\n",
    "\n"
   ]
  },
  {
   "cell_type": "code",
   "execution_count": 3,
   "metadata": {},
   "outputs": [],
   "source": [
    "# First Module we are going to discuss about is math module\n",
    "import math"
   ]
  },
  {
   "cell_type": "code",
   "execution_count": 4,
   "metadata": {},
   "outputs": [
    {
     "data": {
      "text/plain": [
       "21"
      ]
     },
     "execution_count": 4,
     "metadata": {},
     "output_type": "execute_result"
    }
   ],
   "source": [
    "# The smallest integer greater than or equal to x.\n",
    "math.ceil(20.222)"
   ]
  },
  {
   "cell_type": "code",
   "execution_count": 5,
   "metadata": {},
   "outputs": [
    {
     "data": {
      "text/plain": [
       "20"
      ]
     },
     "execution_count": 5,
     "metadata": {},
     "output_type": "execute_result"
    }
   ],
   "source": [
    "# The largest integer greater than or equal to x.\n",
    "math.floor(20.222)"
   ]
  },
  {
   "cell_type": "code",
   "execution_count": 6,
   "metadata": {},
   "outputs": [
    {
     "data": {
      "text/plain": [
       "3628800"
      ]
     },
     "execution_count": 6,
     "metadata": {},
     "output_type": "execute_result"
    }
   ],
   "source": [
    "# factorial of a number\n",
    "math.factorial(10)"
   ]
  },
  {
   "cell_type": "code",
   "execution_count": 7,
   "metadata": {},
   "outputs": [
    {
     "data": {
      "text/plain": [
       "5"
      ]
     },
     "execution_count": 7,
     "metadata": {},
     "output_type": "execute_result"
    }
   ],
   "source": [
    "# greatest common divisor of the integer a and b\n",
    "math.gcd(20,25)"
   ]
  },
  {
   "cell_type": "markdown",
   "metadata": {},
   "source": [
    "##### Learn more about the functions in math library here https://docs.python.org/3library/math.html"
   ]
  },
  {
   "cell_type": "code",
   "execution_count": 8,
   "metadata": {},
   "outputs": [],
   "source": [
    "# Next Module we are going to discuss about is random module.\n",
    "import random"
   ]
  },
  {
   "cell_type": "code",
   "execution_count": 9,
   "metadata": {},
   "outputs": [
    {
     "data": {
      "text/plain": [
       "'banana'"
      ]
     },
     "execution_count": 9,
     "metadata": {},
     "output_type": "execute_result"
    }
   ],
   "source": [
    "# Select a random element from a list\n",
    "random.choice(['apple','pear','banana'])"
   ]
  },
  {
   "cell_type": "code",
   "execution_count": 10,
   "metadata": {},
   "outputs": [
    {
     "data": {
      "text/plain": [
       "[28, 27, 22, 46, 17, 33, 29, 41, 25, 34]"
      ]
     },
     "execution_count": 10,
     "metadata": {},
     "output_type": "execute_result"
    }
   ],
   "source": [
    "# Select 10 different numbers within a range of numbers \n",
    "random.sample(range(10,50),10)"
   ]
  },
  {
   "cell_type": "code",
   "execution_count": 11,
   "metadata": {},
   "outputs": [
    {
     "data": {
      "text/plain": [
       "0.19716163303045586"
      ]
     },
     "execution_count": 11,
     "metadata": {},
     "output_type": "execute_result"
    }
   ],
   "source": [
    "# Select a random float number\n",
    "random.random()"
   ]
  },
  {
   "cell_type": "code",
   "execution_count": 12,
   "metadata": {},
   "outputs": [
    {
     "data": {
      "text/plain": [
       "0.5066276076809044"
      ]
     },
     "execution_count": 12,
     "metadata": {},
     "output_type": "execute_result"
    }
   ],
   "source": [
    "# Select a random float number within a range.\n",
    "random.uniform(0,2)"
   ]
  },
  {
   "cell_type": "code",
   "execution_count": 13,
   "metadata": {},
   "outputs": [
    {
     "data": {
      "text/plain": [
       "4"
      ]
     },
     "execution_count": 13,
     "metadata": {},
     "output_type": "execute_result"
    }
   ],
   "source": [
    "# random integer chosen from range(6)\n",
    "random.randrange(3,6)"
   ]
  },
  {
   "cell_type": "code",
   "execution_count": 14,
   "metadata": {},
   "outputs": [
    {
     "data": {
      "text/plain": [
       "10"
      ]
     },
     "execution_count": 14,
     "metadata": {},
     "output_type": "execute_result"
    }
   ],
   "source": [
    "random.randint(1,10)"
   ]
  },
  {
   "cell_type": "code",
   "execution_count": 15,
   "metadata": {},
   "outputs": [],
   "source": [
    "# Next Module we are going to discuss about is DateTime module\n",
    "from datetime import date"
   ]
  },
  {
   "cell_type": "code",
   "execution_count": 16,
   "metadata": {},
   "outputs": [
    {
     "name": "stdout",
     "output_type": "stream",
     "text": [
      "date:  2020-10-07\n"
     ]
    }
   ],
   "source": [
    "# get the current date\n",
    "\n",
    "TODAY = date.today()\n",
    "print(\"date: \",TODAY)"
   ]
  },
  {
   "cell_type": "code",
   "execution_count": 17,
   "metadata": {},
   "outputs": [
    {
     "name": "stdout",
     "output_type": "stream",
     "text": [
      "Formatted date: 10-07-20\n"
     ]
    }
   ],
   "source": [
    "# format date\n",
    "print(f\"Formatted date: {TODAY.strftime('%m-%d-%y')}\")"
   ]
  },
  {
   "cell_type": "code",
   "execution_count": 18,
   "metadata": {},
   "outputs": [
    {
     "name": "stdout",
     "output_type": "stream",
     "text": [
      "Formatted date: 07 Oct 2020 \n"
     ]
    }
   ],
   "source": [
    "# format date\n",
    "print(f\"Formatted date: {TODAY.strftime('%d %b %Y')} \")"
   ]
  },
  {
   "cell_type": "code",
   "execution_count": 19,
   "metadata": {},
   "outputs": [
    {
     "name": "stdout",
     "output_type": "stream",
     "text": [
      "Formatted date: Wednesday on the 07 day of October\n"
     ]
    }
   ],
   "source": [
    "# format date\n",
    "print(f\"Formatted date: {TODAY.strftime('%A on the %d day of %B')}\")"
   ]
  },
  {
   "cell_type": "code",
   "execution_count": 20,
   "metadata": {},
   "outputs": [
    {
     "name": "stdout",
     "output_type": "stream",
     "text": [
      "Age in days: 20522\n"
     ]
    }
   ],
   "source": [
    "# dates support calendar arithmetic\n",
    "birthday = date(1964,7,31)\n",
    "age = TODAY - birthday\n",
    "print(\"Age in days:\",age.days)"
   ]
  },
  {
   "cell_type": "code",
   "execution_count": 21,
   "metadata": {},
   "outputs": [],
   "source": [
    "# Next Module we are going to discuss about is OS module\n",
    "import os"
   ]
  },
  {
   "cell_type": "code",
   "execution_count": 22,
   "metadata": {},
   "outputs": [
    {
     "name": "stdout",
     "output_type": "stream",
     "text": [
      "Get current working directory: C:\\Users\\ravii\n"
     ]
    }
   ],
   "source": [
    "# Return the current working directory\n",
    "print(f'Get current working directory: {os.getcwd()}')"
   ]
  },
  {
   "cell_type": "code",
   "execution_count": 23,
   "metadata": {},
   "outputs": [
    {
     "name": "stdout",
     "output_type": "stream",
     "text": [
      "Listing eisting directories: ['.conda', '.condarc', '.config', '.ipynb_checkpoints', '.ipython', '.jupyter', '.matplotlib', '.octave_hist', '.pylint.d', '.spyder-py3', '.vscode', '3D Objects', 'anaconda3', 'Analytics Vidhya', 'AppData', 'Application Data', 'AQI_data', 'Assignment- Control Flow-checkpoint.ipynb', 'Assignment- Control Flow.ipynb', 'Circle.py', 'Contacts', 'Cookies', 'Data', 'Data Structures Assignment.ipynb', 'Desktop', 'Documents', 'Downloads', 'Favorites', 'First Innings Score Predictor for Indian Premier League (IPL).ipynb', 'IPL', 'IPL-First-Innings-Score-Prediction-Deployment-master', 'Links', 'Live Tracking Of COVID19 Cases in India Using Python.ipynb', 'Local Settings', 'MicrosoftEdgeBackups', 'Music', 'My Documents', 'NetHood', 'NTUSER.DAT', 'ntuser.dat.LOG1', 'ntuser.dat.LOG2', 'NTUSER.DAT{fd9a35db-49fe-11e9-aa2c-248a07783950}.TM.blf', 'NTUSER.DAT{fd9a35db-49fe-11e9-aa2c-248a07783950}.TMContainer00000000000000000001.regtrans-ms', 'NTUSER.DAT{fd9a35db-49fe-11e9-aa2c-248a07783950}.TMContainer00000000000000000002.regtrans-ms', 'ntuser.ini', 'OneDrive', 'Operator', 'Pictures', 'PrintHood', 'Python - HackerRank.ipynb', 'Python Basics.ipynb', 'Python(Modules, Packages and Standard Libraries).ipynb', 'Python_Programming_From_End_to_End.ipynb', 'Recent', 'Saved Games', 'seaborn-data', 'Searches', 'SendTo', 'Start Menu', 'Template', 'Templates', 'today', 'Videos', '__pycache__']\n"
     ]
    }
   ],
   "source": [
    "# List contents of a directory\n",
    "print(f'Listing eisting directories: {os.listdir()}')"
   ]
  },
  {
   "cell_type": "code",
   "execution_count": 24,
   "metadata": {},
   "outputs": [
    {
     "name": "stdout",
     "output_type": "stream",
     "text": [
      "Make new directory: 1\n"
     ]
    }
   ],
   "source": [
    "# Run the commnd mkdir in the system shell\n",
    "\n",
    "print(f'Make new directory: {os.system(\"mkdir today\")}')"
   ]
  },
  {
   "cell_type": "code",
   "execution_count": 25,
   "metadata": {},
   "outputs": [
    {
     "data": {
      "text/plain": [
       "['.conda',\n",
       " '.condarc',\n",
       " '.config',\n",
       " '.ipynb_checkpoints',\n",
       " '.ipython',\n",
       " '.jupyter',\n",
       " '.matplotlib',\n",
       " '.octave_hist',\n",
       " '.pylint.d',\n",
       " '.spyder-py3',\n",
       " '.vscode',\n",
       " '3D Objects',\n",
       " 'anaconda3',\n",
       " 'Analytics Vidhya',\n",
       " 'AppData',\n",
       " 'Application Data',\n",
       " 'AQI_data',\n",
       " 'Assignment- Control Flow-checkpoint.ipynb',\n",
       " 'Assignment- Control Flow.ipynb',\n",
       " 'Circle.py',\n",
       " 'Contacts',\n",
       " 'Cookies',\n",
       " 'Data',\n",
       " 'Data Structures Assignment.ipynb',\n",
       " 'Desktop',\n",
       " 'Documents',\n",
       " 'Downloads',\n",
       " 'Favorites',\n",
       " 'First Innings Score Predictor for Indian Premier League (IPL).ipynb',\n",
       " 'IPL',\n",
       " 'IPL-First-Innings-Score-Prediction-Deployment-master',\n",
       " 'Links',\n",
       " 'Live Tracking Of COVID19 Cases in India Using Python.ipynb',\n",
       " 'Local Settings',\n",
       " 'MicrosoftEdgeBackups',\n",
       " 'Music',\n",
       " 'My Documents',\n",
       " 'NetHood',\n",
       " 'NTUSER.DAT',\n",
       " 'ntuser.dat.LOG1',\n",
       " 'ntuser.dat.LOG2',\n",
       " 'NTUSER.DAT{fd9a35db-49fe-11e9-aa2c-248a07783950}.TM.blf',\n",
       " 'NTUSER.DAT{fd9a35db-49fe-11e9-aa2c-248a07783950}.TMContainer00000000000000000001.regtrans-ms',\n",
       " 'NTUSER.DAT{fd9a35db-49fe-11e9-aa2c-248a07783950}.TMContainer00000000000000000002.regtrans-ms',\n",
       " 'ntuser.ini',\n",
       " 'OneDrive',\n",
       " 'Operator',\n",
       " 'Pictures',\n",
       " 'PrintHood',\n",
       " 'Python - HackerRank.ipynb',\n",
       " 'Python Basics.ipynb',\n",
       " 'Python(Modules, Packages and Standard Libraries).ipynb',\n",
       " 'Python_Programming_From_End_to_End.ipynb',\n",
       " 'Recent',\n",
       " 'Saved Games',\n",
       " 'seaborn-data',\n",
       " 'Searches',\n",
       " 'SendTo',\n",
       " 'Start Menu',\n",
       " 'Template',\n",
       " 'Templates',\n",
       " 'today',\n",
       " 'Videos',\n",
       " '__pycache__']"
      ]
     },
     "execution_count": 25,
     "metadata": {},
     "output_type": "execute_result"
    }
   ],
   "source": [
    "# check if the new directory got created.\n",
    "os.listdir()"
   ]
  },
  {
   "cell_type": "markdown",
   "metadata": {},
   "source": [
    "##### Change the current  working directory\n",
    "os.chdir('today/')\n",
    "\n",
    "print(f\"Get current working directory: {os.getcwd}\")"
   ]
  },
  {
   "cell_type": "markdown",
   "metadata": {},
   "source": [
    "### User Defined Libraries in Python"
   ]
  },
  {
   "cell_type": "markdown",
   "metadata": {},
   "source": [
    "##### importing the arthmetic module which is stored in the operator folder which is a Package created by us. "
   ]
  },
  {
   "cell_type": "code",
   "execution_count": 26,
   "metadata": {},
   "outputs": [],
   "source": [
    "from Operator import Arithmetic"
   ]
  },
  {
   "cell_type": "code",
   "execution_count": 27,
   "metadata": {},
   "outputs": [
    {
     "data": {
      "text/plain": [
       "['__builtins__',\n",
       " '__cached__',\n",
       " '__doc__',\n",
       " '__file__',\n",
       " '__loader__',\n",
       " '__name__',\n",
       " '__package__',\n",
       " '__spec__',\n",
       " 'addition',\n",
       " 'division',\n",
       " 'multiplication',\n",
       " 'subtraction']"
      ]
     },
     "execution_count": 27,
     "metadata": {},
     "output_type": "execute_result"
    }
   ],
   "source": [
    "dir(Arithmetic)"
   ]
  },
  {
   "cell_type": "code",
   "execution_count": 28,
   "metadata": {},
   "outputs": [
    {
     "data": {
      "text/plain": [
       "9"
      ]
     },
     "execution_count": 28,
     "metadata": {},
     "output_type": "execute_result"
    }
   ],
   "source": [
    "Arithmetic.addition(3,6)"
   ]
  },
  {
   "cell_type": "code",
   "execution_count": 29,
   "metadata": {},
   "outputs": [
    {
     "data": {
      "text/plain": [
       "3"
      ]
     },
     "execution_count": 29,
     "metadata": {},
     "output_type": "execute_result"
    }
   ],
   "source": [
    "Arithmetic.subtraction(6,3)"
   ]
  },
  {
   "cell_type": "code",
   "execution_count": 30,
   "metadata": {},
   "outputs": [],
   "source": [
    "# Method 2\n",
    "from Operator.Arithmetic import multiplication"
   ]
  },
  {
   "cell_type": "code",
   "execution_count": 31,
   "metadata": {},
   "outputs": [
    {
     "data": {
      "text/plain": [
       "10"
      ]
     },
     "execution_count": 31,
     "metadata": {},
     "output_type": "execute_result"
    }
   ],
   "source": [
    "multiplication(5,2)"
   ]
  }
 ],
 "metadata": {
  "kernelspec": {
   "display_name": "Python 3",
   "language": "python",
   "name": "python3"
  },
  "language_info": {
   "codemirror_mode": {
    "name": "ipython",
    "version": 3
   },
   "file_extension": ".py",
   "mimetype": "text/x-python",
   "name": "python",
   "nbconvert_exporter": "python",
   "pygments_lexer": "ipython3",
   "version": "3.7.6"
  }
 },
 "nbformat": 4,
 "nbformat_minor": 4
}
